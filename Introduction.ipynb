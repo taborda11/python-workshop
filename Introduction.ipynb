{
  "nbformat": 4,
  "nbformat_minor": 0,
  "metadata": {
    "colab": {
      "name": "Introduction.ipynb",
      "version": "0.3.2",
      "provenance": [],
      "collapsed_sections": [],
      "toc_visible": true,
      "include_colab_link": true
    },
    "kernelspec": {
      "name": "python3",
      "display_name": "Python 3"
    }
  },
  "cells": [
    {
      "cell_type": "markdown",
      "metadata": {
        "id": "view-in-github",
        "colab_type": "text"
      },
      "source": [
        "<a href=\"https://colab.research.google.com/github/taborda11/python-workshop/blob/master/Introduction.ipynb\" target=\"_parent\"><img src=\"https://colab.research.google.com/assets/colab-badge.svg\" alt=\"Open In Colab\"/></a>"
      ]
    },
    {
      "metadata": {
        "id": "tu_viOxNhhh-",
        "colab_type": "text"
      },
      "cell_type": "markdown",
      "source": [
        "# Python Introduction\n",
        "\n",
        "* Python is **open-source**.\n",
        "\n",
        "* Python is a programming language interpreted.\n",
        "\n",
        "* Used in back-end and front-end applications.\n",
        "\n",
        "* Read to understand and develop.\n",
        "\n",
        "* Used in machine learning, statistics, data analysis...\n",
        "\n",
        "* **PyPI (Python Package Index)** includes: Graphical user interfaces\n",
        "Web frameworks, Multimedia, Databases, Networking, Test frameworks, Automation, Web scraping, Documentation\n",
        ",System administration, Scientific computing, Text processing, Image processing\n"
      ]
    },
    {
      "metadata": {
        "id": "6EAj7E6KhhS_",
        "colab_type": "text"
      },
      "cell_type": "markdown",
      "source": [
        "# Python data types\n",
        "\n",
        "This section will show some examples of basic data types. Those are the main types that can be used in python.\n",
        "\n",
        "\n",
        "---\n",
        "\n",
        "Before we start, for debug proposes we use **`print(arg)`**\n",
        "\n",
        "---\n"
      ]
    },
    {
      "metadata": {
        "id": "Wv9u0rsLlLhC",
        "colab_type": "text"
      },
      "cell_type": "markdown",
      "source": [
        "\n",
        "\n",
        "## Basic data types\n",
        "\n",
        "The data type bellows are the basic/standard data types used in python."
      ]
    },
    {
      "metadata": {
        "id": "cGKg25pDjeZ3",
        "colab_type": "code",
        "colab": {}
      },
      "cell_type": "code",
      "source": [
        "a = 3 #Assign number 3 to variable a\n",
        "print(a, \"is of type\", type(a))"
      ],
      "execution_count": 0,
      "outputs": []
    },
    {
      "metadata": {
        "id": "-Fd7rfT5jrbM",
        "colab_type": "code",
        "colab": {}
      },
      "cell_type": "code",
      "source": [
        "a = 3.323\n",
        "print(a, \"is of type\", type(a))"
      ],
      "execution_count": 0,
      "outputs": []
    },
    {
      "metadata": {
        "id": "NkHxlGz3jva3",
        "colab_type": "code",
        "colab": {}
      },
      "cell_type": "code",
      "source": [
        "a = \"Hello word!\"\n",
        "print(a, \"is of type\", type(a))"
      ],
      "execution_count": 0,
      "outputs": []
    },
    {
      "metadata": {
        "id": "ObSgM6dGw3ll",
        "colab_type": "code",
        "colab": {}
      },
      "cell_type": "code",
      "source": [
        "a = True\n",
        "b = False\n",
        "\n",
        "print(a, \"is of type\", type(a))\n",
        "print (\"Variable a: \", a)\n",
        "print (\"Variable b: \", b)"
      ],
      "execution_count": 0,
      "outputs": []
    },
    {
      "metadata": {
        "id": "UFSCsYMemZbV",
        "colab_type": "code",
        "colab": {}
      },
      "cell_type": "code",
      "source": [
        "a = 2\n",
        "b = 3\n",
        "\n",
        "#Example sum\n",
        "c = a + b\n",
        "print (a,\"+\",b,\"=\", c)"
      ],
      "execution_count": 0,
      "outputs": []
    },
    {
      "metadata": {
        "id": "JuyJHSHznv4_",
        "colab_type": "code",
        "colab": {}
      },
      "cell_type": "code",
      "source": [
        "#Example subtraction\n",
        "c = a - b\n",
        "print (a,\"-\",b,\"=\", c)"
      ],
      "execution_count": 0,
      "outputs": []
    },
    {
      "metadata": {
        "id": "wVRk4Uidn0BJ",
        "colab_type": "code",
        "colab": {}
      },
      "cell_type": "code",
      "source": [
        "#Example multiplication\n",
        "c = a * b\n",
        "print (a,\"x\",b,\"=\", c)"
      ],
      "execution_count": 0,
      "outputs": []
    },
    {
      "metadata": {
        "id": "mDdJ6q4jn2sJ",
        "colab_type": "code",
        "colab": {}
      },
      "cell_type": "code",
      "source": [
        "#Example division\n",
        "c = a / b\n",
        "print (a,\"/\",b,\"=\", c)"
      ],
      "execution_count": 0,
      "outputs": []
    },
    {
      "metadata": {
        "id": "zorPSzl8D-4M",
        "colab_type": "code",
        "colab": {}
      },
      "cell_type": "code",
      "source": [
        "#Example rest of division\n",
        "c = a % b\n",
        "print (a,\"%\",b,\"=\", c)"
      ],
      "execution_count": 0,
      "outputs": []
    },
    {
      "metadata": {
        "id": "5hvPRKIFn5A7",
        "colab_type": "code",
        "colab": {}
      },
      "cell_type": "code",
      "source": [
        "c = c + 5\n",
        "print (\"c is now equals to \", c)"
      ],
      "execution_count": 0,
      "outputs": []
    },
    {
      "metadata": {
        "id": "UUh3fVqdmyFc",
        "colab_type": "code",
        "colab": {}
      },
      "cell_type": "code",
      "source": [
        "#Example sum with different data types\n",
        "a = 1\n",
        "b = 3.4\n",
        "\n",
        "c = a + b\n",
        "print (a,\"+\",b,\"=\", c)"
      ],
      "execution_count": 0,
      "outputs": []
    },
    {
      "metadata": {
        "id": "KIAJyUsDpCqh",
        "colab_type": "code",
        "colab": {}
      },
      "cell_type": "code",
      "source": [
        "#Example with strings\n",
        "a = \"Hello\"\n",
        "b = \"World\"\n",
        "\n",
        "c = a + b\n",
        "print (a,\"+\",b,\"=\", c)\n",
        "\n",
        "c = c * 2\n",
        "print (\"Duplicated variable c: \", c)\n",
        "\n",
        "\n",
        "#Formating strings\n",
        "# %s - string\n",
        "# %f - float can use \n",
        "# %d - integer\n",
        "\n",
        "d = \"%s Mr. %s\" % (a,b)\n",
        "print (\"Formating string d: \", d)\n",
        "\n",
        "e = \"%d rd %s war\" % (3, b)\n",
        "print (\"Formating string with int and str: \", e)"
      ],
      "execution_count": 0,
      "outputs": []
    },
    {
      "metadata": {
        "id": "3OniaEJ6hhxU",
        "colab_type": "text"
      },
      "cell_type": "markdown",
      "source": [
        "## Complex data types\n",
        "\n",
        "Complex data types use at **least one basic data type**.\n",
        "\n",
        "Complex data types allow us to store information in a readable way."
      ]
    },
    {
      "metadata": {
        "id": "xHLP8OQOkfu5",
        "colab_type": "text"
      },
      "cell_type": "markdown",
      "source": [
        "### List\n",
        "List is an **ordered sequence of items that can be changed**. The data type  don't need to have the same."
      ]
    },
    {
      "metadata": {
        "id": "jl1E2dp_j5p_",
        "colab_type": "code",
        "colab": {}
      },
      "cell_type": "code",
      "source": [
        "a = [1,2,3]\n",
        "print(a, \"is of type\", type(a))"
      ],
      "execution_count": 0,
      "outputs": []
    },
    {
      "metadata": {
        "id": "rW5H7ex8j-w0",
        "colab_type": "code",
        "colab": {}
      },
      "cell_type": "code",
      "source": [
        "a = [1,\"a\",3.3]\n",
        "print(a, \"is of type\", type(a))"
      ],
      "execution_count": 0,
      "outputs": []
    },
    {
      "metadata": {
        "id": "3JTUCUbIk4L_",
        "colab_type": "code",
        "colab": {}
      },
      "cell_type": "code",
      "source": [
        "a = [1,2,3]\n",
        "#Add elements to list a\n",
        "a.append(4)\n",
        "\n",
        "print (\"List a: \", a)\n",
        "\n",
        "#List size\n",
        "print (\"Number of elements in list a: \", len(a))\n",
        "\n",
        "#Check specific element of a\n",
        "print (\"First value: \", a[0])\n",
        "print (\"Last value: \", a[len(a)-1])\n",
        "print (\"Last value: \", a[-1])\n",
        "print (\"Second and third values: \", a[1:3])\n",
        "print (\"All values except the first: \", a[1:])\n",
        "\n",
        "a.sort(reverse=True)\n",
        "print (\"Sort in reverse order: \", a)\n",
        "\n",
        "a[0] = 55\n",
        "print (\"Changing first value: \", a)\n",
        "\n",
        "#Remove elements from list a\n",
        "a.remove(1)\n",
        "print (\"List a after removing first position: \", a)"
      ],
      "execution_count": 0,
      "outputs": []
    },
    {
      "metadata": {
        "id": "i8WLRzgFucyN",
        "colab_type": "text"
      },
      "cell_type": "markdown",
      "source": [
        "### Set\n",
        "The main difference between a **list** and **set** is that, **set doesn't allow any duplicated values. The values are also immutable.**"
      ]
    },
    {
      "metadata": {
        "id": "nP5C_mpYkFZw",
        "colab_type": "code",
        "outputId": "2265561b-a691-4996-b486-5035125f4c12",
        "colab": {
          "base_uri": "https://localhost:8080/",
          "height": 85
        }
      },
      "cell_type": "code",
      "source": [
        "a = {1, 2, 3, 3, 4}\n",
        "print(a, \"is of type\", type(a))\n",
        "\n",
        "print(len(a))\n",
        "\n",
        "#a[1] = 2\n",
        "\n",
        "print (\"First value: \", a.pop())\n",
        "\n",
        "a.add(\"New\")\n",
        "print (\"Final set a: \", a)"
      ],
      "execution_count": 0,
      "outputs": [
        {
          "output_type": "stream",
          "text": [
            "{1, 2, 3, 4} is of type <class 'set'>\n",
            "4\n",
            "First value:  1\n",
            "Final set a:  {2, 3, 4, 'New'}\n"
          ],
          "name": "stdout"
        }
      ]
    },
    {
      "metadata": {
        "id": "xG5mg4TEukeF",
        "colab_type": "text"
      },
      "cell_type": "markdown",
      "source": [
        "### Tuple\n",
        "Tuples are similar to lists but the **values once assigned can't be changed.**"
      ]
    },
    {
      "metadata": {
        "id": "-EJyUXDokXF-",
        "colab_type": "code",
        "colab": {}
      },
      "cell_type": "code",
      "source": [
        "a = (5,'Hello', 1.5)\n",
        "print(a, \"is of type\", type(a))"
      ],
      "execution_count": 0,
      "outputs": []
    },
    {
      "metadata": {
        "id": "GyLSN7oVk6k8",
        "colab_type": "text"
      },
      "cell_type": "markdown",
      "source": [
        "### Dictionaire\n",
        "Python dictionary is an **unordered collection of items**. While other compound data types have only value as an element, a dictionary has a **key: value pair.**"
      ]
    },
    {
      "metadata": {
        "id": "OuX44S9eBr4_",
        "colab_type": "code",
        "colab": {}
      },
      "cell_type": "code",
      "source": [
        "a = {'name':'Bruno', 'age': 23}\n",
        "print(a, \"is of type\", type(a))"
      ],
      "execution_count": 0,
      "outputs": []
    },
    {
      "metadata": {
        "id": "RMeY4HH0B43u",
        "colab_type": "code",
        "colab": {}
      },
      "cell_type": "code",
      "source": [
        "print(a['name'])\n",
        "\n",
        "print(a.get('age'))"
      ],
      "execution_count": 0,
      "outputs": []
    },
    {
      "metadata": {
        "id": "8jP4BgpoCGQW",
        "colab_type": "code",
        "colab": {}
      },
      "cell_type": "code",
      "source": [
        "a['age'] = 25\n",
        "a['city'] = 'Lisboa'\n",
        "\n",
        "print(a)"
      ],
      "execution_count": 0,
      "outputs": []
    },
    {
      "metadata": {
        "id": "JUVtfZsbCxC-",
        "colab_type": "text"
      },
      "cell_type": "markdown",
      "source": [
        "# Python control statements\n",
        "\n",
        "Control statement can be divided in **condictions** and **loops**."
      ]
    },
    {
      "metadata": {
        "id": "eHfk5GKDDBni",
        "colab_type": "text"
      },
      "cell_type": "markdown",
      "source": [
        "## Conditions\n",
        "\n",
        "\n",
        "Conditions allows the developer to  execute some parts of the code when those conditions are met or not."
      ]
    },
    {
      "metadata": {
        "id": "9LrZzpx7C9o8",
        "colab_type": "code",
        "colab": {}
      },
      "cell_type": "code",
      "source": [
        "a = 3\n",
        "b = 2\n",
        "\n",
        "print(\"Is \", a, \">=\", b,\"? \", a>=b)\n",
        "\n",
        "print(\"Is \", a, \"<\", b,\"? \", a<b)\n",
        "\n",
        "print(\"Is \", a, \"=\", b,\"? \", a==b)\n",
        "\n",
        "print(\"Is \", a, \"!=\", b,\"? \", a!=b)"
      ],
      "execution_count": 0,
      "outputs": []
    },
    {
      "metadata": {
        "id": "ROsJYmqVEKUz",
        "colab_type": "code",
        "colab": {}
      },
      "cell_type": "code",
      "source": [
        "a = 3\n",
        "\n",
        "if a % 2 == 0:\n",
        "  print (\"Number is even.\")\n",
        "else:\n",
        "  print (\"Number is odd.\")"
      ],
      "execution_count": 0,
      "outputs": []
    },
    {
      "metadata": {
        "id": "NrMCtGi5Ek5p",
        "colab_type": "code",
        "colab": {}
      },
      "cell_type": "code",
      "source": [
        "str = 'potato'\n",
        "\n",
        "if str == 'potato':\n",
        "  print (str)\n",
        "elif str == 'tomato':\n",
        "  print (\"I don't like!\")\n",
        "else:\n",
        "  print (\"What is this?\")"
      ],
      "execution_count": 0,
      "outputs": []
    },
    {
      "metadata": {
        "id": "nrzPQA04FxDY",
        "colab_type": "code",
        "colab": {}
      },
      "cell_type": "code",
      "source": [
        "a = {'name':'Bruno', 'age': 23}\n",
        "\n",
        "if a['name'] == 'Bruno':\n",
        "  if a['age'] == 23:\n",
        "    print ('Real Bruno!!')\n",
        "  else:\n",
        "    print ('Wrong age')\n",
        "else:\n",
        "  print ('Your name is not fine!')\n",
        "    "
      ],
      "execution_count": 0,
      "outputs": []
    },
    {
      "metadata": {
        "id": "eYwE_ZpM7lNQ",
        "colab_type": "text"
      },
      "cell_type": "markdown",
      "source": [
        "## Loops\n",
        "\n",
        "Loops allows the developer to iterate over complex data types or until a stop condition is met."
      ]
    },
    {
      "metadata": {
        "id": "MM4OA8yD9YWk",
        "colab_type": "text"
      },
      "cell_type": "markdown",
      "source": [
        "###for"
      ]
    },
    {
      "metadata": {
        "id": "snY8zSkQ7z6r",
        "colab_type": "code",
        "colab": {}
      },
      "cell_type": "code",
      "source": [
        "#Try with range(1,10,2)\n",
        "for x in range(10):\n",
        "  print (x)"
      ],
      "execution_count": 0,
      "outputs": []
    },
    {
      "metadata": {
        "id": "IGFc9sPC78VT",
        "colab_type": "code",
        "colab": {}
      },
      "cell_type": "code",
      "source": [
        "a = [{'city':'Lisbon', 'country':'Portugal'}, {'city':'Frankfurt', 'country':'Germany'}]\n",
        "\n",
        "for i in a:\n",
        "  print (i['city'],\" - \", i['country'])"
      ],
      "execution_count": 0,
      "outputs": []
    },
    {
      "metadata": {
        "id": "hL3qmDyb9du4",
        "colab_type": "text"
      },
      "cell_type": "markdown",
      "source": [
        "###while"
      ]
    },
    {
      "metadata": {
        "id": "dDaCXQgg9fbj",
        "colab_type": "code",
        "colab": {}
      },
      "cell_type": "code",
      "source": [
        "count = 0\n",
        "\n",
        "while count < 5:\n",
        "  print (count)\n",
        "  count += 1\n",
        "else:\n",
        "  print(\"while terminated\")"
      ],
      "execution_count": 0,
      "outputs": []
    },
    {
      "metadata": {
        "id": "ETmaQ9sgBTvm",
        "colab_type": "text"
      },
      "cell_type": "markdown",
      "source": [
        "###break and continue"
      ]
    },
    {
      "metadata": {
        "id": "Fpiguc6BBXNH",
        "colab_type": "code",
        "colab": {}
      },
      "cell_type": "code",
      "source": [
        "count = 5\n",
        "\n",
        "while True:\n",
        "    print (count)\n",
        "    if count <= 0:\n",
        "      break;\n",
        "    count -= 1"
      ],
      "execution_count": 0,
      "outputs": []
    },
    {
      "metadata": {
        "id": "LJhiFFnbCB3O",
        "colab_type": "code",
        "colab": {}
      },
      "cell_type": "code",
      "source": [
        "for x in range (20):\n",
        "  if (x %2 == 0):\n",
        "    continue\n",
        "  print (x)"
      ],
      "execution_count": 0,
      "outputs": []
    },
    {
      "metadata": {
        "id": "zQ22XP-rCcyn",
        "colab_type": "text"
      },
      "cell_type": "markdown",
      "source": [
        "# Python advanced\n",
        "\n",
        "At this section, **functions**, **classes** and **objects** will be explored.\n"
      ]
    },
    {
      "metadata": {
        "id": "Zady0AFlevtj",
        "colab_type": "text"
      },
      "cell_type": "markdown",
      "source": [
        "## Functions\n",
        "\n",
        "Functions allows to re-use and call more then one time the same code."
      ]
    },
    {
      "metadata": {
        "id": "N-jRmj3efHwy",
        "colab_type": "code",
        "colab": {}
      },
      "cell_type": "code",
      "source": [
        "def hello():\n",
        "  print (\"Hello world!\")\n",
        "  \n",
        "hello()"
      ],
      "execution_count": 0,
      "outputs": []
    },
    {
      "metadata": {
        "id": "e6YtRPpGe18b",
        "colab_type": "code",
        "colab": {}
      },
      "cell_type": "code",
      "source": [
        "def sum(a, b):\n",
        "   return a+b\n",
        "  \n",
        "print (sum(5,10))"
      ],
      "execution_count": 0,
      "outputs": []
    },
    {
      "metadata": {
        "id": "amKMNVngeywO",
        "colab_type": "text"
      },
      "cell_type": "markdown",
      "source": [
        "## Classes and Objects\n",
        "Objects are defined with classes. Classes has atributes and functions. \n",
        "\n",
        "Objects (e.g. Vehicle) can be re-used and are structured."
      ]
    },
    {
      "metadata": {
        "id": "nzsUFOyAfiq3",
        "colab_type": "code",
        "colab": {}
      },
      "cell_type": "code",
      "source": [
        "class Human:\n",
        "  name=\"\"\n",
        "  birthday=\"\"\n",
        "  nationality=\"\"\n",
        "  \n",
        "  def getDetails(self):\n",
        "      print (\"name:\",self.name)\n",
        "      print (\"birthday:\", self.birthday)\n",
        "      print (\"nationality:\", self.nationality)\n",
        "\n",
        "Human1 = Human()\n",
        "\n",
        "Human1.name=\"Bruno\"\n",
        "Human1.birthday=\"2018-02-16\"\n",
        "\n",
        "Human1.getDetails()"
      ],
      "execution_count": 0,
      "outputs": []
    },
    {
      "metadata": {
        "id": "j0XdU5K-g01p",
        "colab_type": "code",
        "colab": {}
      },
      "cell_type": "code",
      "source": [
        "class AdvancedHuman:\n",
        "  \n",
        "  def __init__(self,name=\"\", birthday=\"\", nationality=\"None\"):\n",
        "    self.name = name\n",
        "    self.birthday = birthday\n",
        "    self.nationality = nationality\n",
        "  \n",
        "  def getDetails(self):\n",
        "      print (\"name:\",self.name)\n",
        "      print (\"birthday:\", self.birthday)\n",
        "      print (\"nationality:\", self.nationality)\n",
        "      \n",
        "Human1 = AdvancedHuman(\"Bruno\", birthday=\"2018-02-16\")\n",
        "\n",
        "Human1.getDetails()"
      ],
      "execution_count": 0,
      "outputs": []
    },
    {
      "metadata": {
        "id": "uLm0psbjhpnE",
        "colab_type": "code",
        "colab": {}
      },
      "cell_type": "code",
      "source": [
        "citizens = []\n",
        "\n",
        "while True:\n",
        "  name = input(\"Input citizen name: (input 9 to exit)\")\n",
        "  if name == \"9\":\n",
        "    print (\"You decided to exit!\")\n",
        "    break\n",
        "  birthday = input(\"Input citizen birthday: (input 9 to exit)\")\n",
        "  if birthday == \"9\":\n",
        "    print (\"You decided to exit!\")\n",
        "    break\n",
        "  nationality = input(\"Input citizen nationality: (input 9 to exit)\")\n",
        "  if nationality == \"9\":\n",
        "    print (\"You decided to exit!\")\n",
        "    break\n",
        "    \n",
        "  newCitizen = AdvancedHuman(name,birthday,nationality)\n",
        "  citizens.append(newCitizen)\n",
        "  \n",
        "print (\"Printing citizens list...\")\n",
        "for c in citizens:\n",
        "  c.getDetails()"
      ],
      "execution_count": 0,
      "outputs": []
    },
    {
      "metadata": {
        "id": "a7mhZRHXPVcm",
        "colab_type": "text"
      },
      "cell_type": "markdown",
      "source": [
        "## Plots"
      ]
    },
    {
      "metadata": {
        "id": "aWzEZPflQIEY",
        "colab_type": "code",
        "colab": {}
      },
      "cell_type": "code",
      "source": [
        "import matplotlib.pyplot as plt"
      ],
      "execution_count": 0,
      "outputs": []
    },
    {
      "metadata": {
        "id": "7RB7UHVdP46p",
        "colab_type": "code",
        "colab": {
          "base_uri": "https://localhost:8080/",
          "height": 347
        },
        "outputId": "2df8d449-ef74-40f8-f895-436122f9a87c"
      },
      "cell_type": "code",
      "source": [
        "plt.plot(range(10))\n",
        "plt.show()"
      ],
      "execution_count": 58,
      "outputs": [
        {
          "output_type": "display_data",
          "data": {
            "image/png": "[encoded data removed]",
            "text/plain": [
              "<matplotlib.figure.Figure at 0x7ff84526dc88>"
            ]
          },
          "metadata": {
            "tags": []
          }
        }
      ]
    },
    {
      "metadata": {
        "id": "JUTr0ddDQLjL",
        "colab_type": "code",
        "colab": {
          "base_uri": "https://localhost:8080/",
          "height": 347
        },
        "outputId": "06b08b0d-02a9-46c8-b544-436c98f34cfe"
      },
      "cell_type": "code",
      "source": [
        "fig, ax1 = plt.subplots()\n",
        "times = range(7)\n",
        "co2 = [250, 265, 272, 260, 300, 320, 389]\n",
        "ax1.plot(times, co2, \"b--\")\n",
        "ax1.set_ylabel(\"[CO2]\")\n",
        "\n",
        "\n",
        "ax2 = ax1.twinx()\n",
        "temp = [14.1, 15.5, 16.3, 18.1, 17.3, 19.1, 20.2]\n",
        "ax2.plot(times, temp, \"r*-\")\n",
        "ax2.set_ylabel(\"Temp (degC)\")\n",
        "plt.show()\n"
      ],
      "execution_count": 59,
      "outputs": [
        {
          "output_type": "display_data",
          "data": {
            "image/png": "[encoded data removed]",
            "text/plain": [
              "<matplotlib.figure.Figure at 0x7ff8456ffa58>"
            ]
          },
          "metadata": {
            "tags": []
          }
        }
      ]
    }
  ]
}