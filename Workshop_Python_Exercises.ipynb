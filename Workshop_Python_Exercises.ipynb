{
  "nbformat": 4,
  "nbformat_minor": 0,
  "metadata": {
    "colab": {
      "name": "Workshop Python - Exercises.ipynb",
      "version": "0.3.2",
      "provenance": [],
      "toc_visible": true,
      "include_colab_link": true
    },
    "kernelspec": {
      "name": "python3",
      "display_name": "Python 3"
    }
  },
  "cells": [
    {
      "cell_type": "markdown",
      "metadata": {
        "id": "view-in-github",
        "colab_type": "text"
      },
      "source": [
        "<a href=\"https://colab.research.google.com/github/taborda11/python-workshop/blob/master/Workshop_Python_Exercises.ipynb\" target=\"_parent\"><img src=\"https://colab.research.google.com/assets/colab-badge.svg\" alt=\"Open In Colab\"/></a>"
      ]
    },
    {
      "metadata": {
        "id": "9DtoI2t7hQVW",
        "colab_type": "text"
      },
      "cell_type": "markdown",
      "source": [
        "# Exercise 1\n",
        "\n",
        "**English**\n",
        "\n",
        "Create a program that asks the user to enter their name and their age. Print out a message addressed to them saying \"Hello [name], you have [age]\".\n",
        "\n",
        "**Tips** - Use `input()`\n",
        "\n",
        "\n",
        "---\n",
        "\n",
        "\n",
        "**Português**\n",
        "\n",
        "Cria um program que pergunta ao utilizador para inserir o seu nome e idade. Mostra uma mensagem a dizer \"Olá [nome], tu tens [age]\".\n",
        "\n",
        "**Dicas** - Usar `input()`"
      ]
    },
    {
      "metadata": {
        "id": "YdSsXSsihKjo",
        "colab_type": "code",
        "colab": {}
      },
      "cell_type": "code",
      "source": [
        ""
      ],
      "execution_count": 0,
      "outputs": []
    },
    {
      "metadata": {
        "id": "UnxEb3z0jDCY",
        "colab_type": "text"
      },
      "cell_type": "markdown",
      "source": [
        "# Exercise 2\n",
        "\n",
        "**English** \n",
        "\n",
        "Create a **function** that **return a new list**  only  numbers less then input number, from a given input list.\n",
        "\n",
        "**Tips** - Use int(input([text])) to convert and input into an integer\n",
        "\n",
        "\n",
        "---\n",
        "\n",
        "**Português**\n",
        "\n",
        "Cria uma **função** que **retorna uma nova lista** que deve conter apenas valores menores que os inseridos, através de uma lista de input.\n",
        "\n",
        "**Dicas** - Usar int(input([texto])) para converter o input num inteiro\n"
      ]
    },
    {
      "metadata": {
        "id": "duYHRw4Sj9-C",
        "colab_type": "code",
        "colab": {
          "base_uri": "https://localhost:8080/",
          "height": 51
        },
        "outputId": "d233ba8f-d80c-46a4-f5bd-d2497dedfe23"
      },
      "cell_type": "code",
      "source": [
        "inputList = [10, 2, 3, 50, 2, 4, 40]\n",
        "\n",
        "\n",
        "def lessTen(list):\n",
        "  new_list = []\n",
        "  #YOUR CODE HERE\n",
        "    \n",
        "  \n",
        "  return new_list\n"
      ],
      "execution_count": 6,
      "outputs": [
        {
          "output_type": "stream",
          "text": [
            "Choose a number:15\n",
            "[10, 2, 3, 2, 4]\n"
          ],
          "name": "stdout"
        }
      ]
    }
  ]
}